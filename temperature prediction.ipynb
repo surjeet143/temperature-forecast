{
 "cells": [
  {
   "cell_type": "code",
   "execution_count": 1,
   "metadata": {},
   "outputs": [],
   "source": [
    "import pandas as pd\n",
    "import seaborn as sns\n",
    "import matplotlib.pyplot as plt\n",
    "import numpy as np\n",
    "from sklearn.preprocessing import StandardScaler\n",
    "from sklearn.utils import shuffle\n",
    "from sklearn.model_selection import train_test_split\n",
    "from sklearn.metrics import confusion_matrix\n",
    "from sklearn.metrics import accuracy_score\n",
    "import pickle"
   ]
  },
  {
   "cell_type": "code",
   "execution_count": 2,
   "metadata": {},
   "outputs": [
    {
     "data": {
      "text/html": [
       "<div>\n",
       "<style scoped>\n",
       "    .dataframe tbody tr th:only-of-type {\n",
       "        vertical-align: middle;\n",
       "    }\n",
       "\n",
       "    .dataframe tbody tr th {\n",
       "        vertical-align: top;\n",
       "    }\n",
       "\n",
       "    .dataframe thead th {\n",
       "        text-align: right;\n",
       "    }\n",
       "</style>\n",
       "<table border=\"1\" class=\"dataframe\">\n",
       "  <thead>\n",
       "    <tr style=\"text-align: right;\">\n",
       "      <th></th>\n",
       "      <th>station</th>\n",
       "      <th>Date</th>\n",
       "      <th>Present_Tmax</th>\n",
       "      <th>Present_Tmin</th>\n",
       "      <th>LDAPS_RHmin</th>\n",
       "      <th>LDAPS_RHmax</th>\n",
       "      <th>LDAPS_Tmax_lapse</th>\n",
       "      <th>LDAPS_Tmin_lapse</th>\n",
       "      <th>LDAPS_WS</th>\n",
       "      <th>LDAPS_LH</th>\n",
       "      <th>...</th>\n",
       "      <th>LDAPS_PPT2</th>\n",
       "      <th>LDAPS_PPT3</th>\n",
       "      <th>LDAPS_PPT4</th>\n",
       "      <th>lat</th>\n",
       "      <th>lon</th>\n",
       "      <th>DEM</th>\n",
       "      <th>Slope</th>\n",
       "      <th>Solar radiation</th>\n",
       "      <th>Next_Tmax</th>\n",
       "      <th>Next_Tmin</th>\n",
       "    </tr>\n",
       "  </thead>\n",
       "  <tbody>\n",
       "    <tr>\n",
       "      <th>0</th>\n",
       "      <td>1.0</td>\n",
       "      <td>30-06-2013</td>\n",
       "      <td>28.7</td>\n",
       "      <td>21.4</td>\n",
       "      <td>58.255688</td>\n",
       "      <td>91.116364</td>\n",
       "      <td>28.074101</td>\n",
       "      <td>23.006936</td>\n",
       "      <td>6.818887</td>\n",
       "      <td>69.451805</td>\n",
       "      <td>...</td>\n",
       "      <td>0.0</td>\n",
       "      <td>0.0</td>\n",
       "      <td>0.0</td>\n",
       "      <td>37.6046</td>\n",
       "      <td>126.991</td>\n",
       "      <td>212.3350</td>\n",
       "      <td>2.7850</td>\n",
       "      <td>5992.895996</td>\n",
       "      <td>29.1</td>\n",
       "      <td>21.2</td>\n",
       "    </tr>\n",
       "    <tr>\n",
       "      <th>1</th>\n",
       "      <td>2.0</td>\n",
       "      <td>30-06-2013</td>\n",
       "      <td>31.9</td>\n",
       "      <td>21.6</td>\n",
       "      <td>52.263397</td>\n",
       "      <td>90.604721</td>\n",
       "      <td>29.850689</td>\n",
       "      <td>24.035009</td>\n",
       "      <td>5.691890</td>\n",
       "      <td>51.937448</td>\n",
       "      <td>...</td>\n",
       "      <td>0.0</td>\n",
       "      <td>0.0</td>\n",
       "      <td>0.0</td>\n",
       "      <td>37.6046</td>\n",
       "      <td>127.032</td>\n",
       "      <td>44.7624</td>\n",
       "      <td>0.5141</td>\n",
       "      <td>5869.312500</td>\n",
       "      <td>30.5</td>\n",
       "      <td>22.5</td>\n",
       "    </tr>\n",
       "    <tr>\n",
       "      <th>2</th>\n",
       "      <td>3.0</td>\n",
       "      <td>30-06-2013</td>\n",
       "      <td>31.6</td>\n",
       "      <td>23.3</td>\n",
       "      <td>48.690479</td>\n",
       "      <td>83.973587</td>\n",
       "      <td>30.091292</td>\n",
       "      <td>24.565633</td>\n",
       "      <td>6.138224</td>\n",
       "      <td>20.573050</td>\n",
       "      <td>...</td>\n",
       "      <td>0.0</td>\n",
       "      <td>0.0</td>\n",
       "      <td>0.0</td>\n",
       "      <td>37.5776</td>\n",
       "      <td>127.058</td>\n",
       "      <td>33.3068</td>\n",
       "      <td>0.2661</td>\n",
       "      <td>5863.555664</td>\n",
       "      <td>31.1</td>\n",
       "      <td>23.9</td>\n",
       "    </tr>\n",
       "    <tr>\n",
       "      <th>3</th>\n",
       "      <td>4.0</td>\n",
       "      <td>30-06-2013</td>\n",
       "      <td>32.0</td>\n",
       "      <td>23.4</td>\n",
       "      <td>58.239788</td>\n",
       "      <td>96.483688</td>\n",
       "      <td>29.704629</td>\n",
       "      <td>23.326177</td>\n",
       "      <td>5.650050</td>\n",
       "      <td>65.727144</td>\n",
       "      <td>...</td>\n",
       "      <td>0.0</td>\n",
       "      <td>0.0</td>\n",
       "      <td>0.0</td>\n",
       "      <td>37.6450</td>\n",
       "      <td>127.022</td>\n",
       "      <td>45.7160</td>\n",
       "      <td>2.5348</td>\n",
       "      <td>5856.964844</td>\n",
       "      <td>31.7</td>\n",
       "      <td>24.3</td>\n",
       "    </tr>\n",
       "    <tr>\n",
       "      <th>4</th>\n",
       "      <td>5.0</td>\n",
       "      <td>30-06-2013</td>\n",
       "      <td>31.4</td>\n",
       "      <td>21.9</td>\n",
       "      <td>56.174095</td>\n",
       "      <td>90.155128</td>\n",
       "      <td>29.113934</td>\n",
       "      <td>23.486480</td>\n",
       "      <td>5.735004</td>\n",
       "      <td>107.965535</td>\n",
       "      <td>...</td>\n",
       "      <td>0.0</td>\n",
       "      <td>0.0</td>\n",
       "      <td>0.0</td>\n",
       "      <td>37.5507</td>\n",
       "      <td>127.135</td>\n",
       "      <td>35.0380</td>\n",
       "      <td>0.5055</td>\n",
       "      <td>5859.552246</td>\n",
       "      <td>31.2</td>\n",
       "      <td>22.5</td>\n",
       "    </tr>\n",
       "    <tr>\n",
       "      <th>5</th>\n",
       "      <td>6.0</td>\n",
       "      <td>30-06-2013</td>\n",
       "      <td>31.9</td>\n",
       "      <td>23.5</td>\n",
       "      <td>52.437126</td>\n",
       "      <td>85.307251</td>\n",
       "      <td>29.219342</td>\n",
       "      <td>23.822613</td>\n",
       "      <td>6.182295</td>\n",
       "      <td>50.231389</td>\n",
       "      <td>...</td>\n",
       "      <td>0.0</td>\n",
       "      <td>0.0</td>\n",
       "      <td>0.0</td>\n",
       "      <td>37.5102</td>\n",
       "      <td>127.042</td>\n",
       "      <td>54.6384</td>\n",
       "      <td>0.1457</td>\n",
       "      <td>5873.780762</td>\n",
       "      <td>31.5</td>\n",
       "      <td>24.0</td>\n",
       "    </tr>\n",
       "    <tr>\n",
       "      <th>6</th>\n",
       "      <td>7.0</td>\n",
       "      <td>30-06-2013</td>\n",
       "      <td>31.4</td>\n",
       "      <td>24.4</td>\n",
       "      <td>56.287189</td>\n",
       "      <td>81.019760</td>\n",
       "      <td>28.551859</td>\n",
       "      <td>24.238467</td>\n",
       "      <td>5.587135</td>\n",
       "      <td>125.110007</td>\n",
       "      <td>...</td>\n",
       "      <td>0.0</td>\n",
       "      <td>0.0</td>\n",
       "      <td>0.0</td>\n",
       "      <td>37.5776</td>\n",
       "      <td>126.838</td>\n",
       "      <td>12.3700</td>\n",
       "      <td>0.0985</td>\n",
       "      <td>5849.233398</td>\n",
       "      <td>30.9</td>\n",
       "      <td>23.4</td>\n",
       "    </tr>\n",
       "    <tr>\n",
       "      <th>7</th>\n",
       "      <td>8.0</td>\n",
       "      <td>30-06-2013</td>\n",
       "      <td>32.1</td>\n",
       "      <td>23.6</td>\n",
       "      <td>52.326218</td>\n",
       "      <td>78.004539</td>\n",
       "      <td>28.851982</td>\n",
       "      <td>23.819054</td>\n",
       "      <td>6.104417</td>\n",
       "      <td>42.011547</td>\n",
       "      <td>...</td>\n",
       "      <td>0.0</td>\n",
       "      <td>0.0</td>\n",
       "      <td>0.0</td>\n",
       "      <td>37.4697</td>\n",
       "      <td>126.910</td>\n",
       "      <td>52.5180</td>\n",
       "      <td>1.5629</td>\n",
       "      <td>5863.992188</td>\n",
       "      <td>31.1</td>\n",
       "      <td>22.9</td>\n",
       "    </tr>\n",
       "    <tr>\n",
       "      <th>8</th>\n",
       "      <td>9.0</td>\n",
       "      <td>30-06-2013</td>\n",
       "      <td>31.4</td>\n",
       "      <td>22.0</td>\n",
       "      <td>55.338791</td>\n",
       "      <td>80.784607</td>\n",
       "      <td>28.426975</td>\n",
       "      <td>23.332373</td>\n",
       "      <td>6.017135</td>\n",
       "      <td>85.110971</td>\n",
       "      <td>...</td>\n",
       "      <td>0.0</td>\n",
       "      <td>0.0</td>\n",
       "      <td>0.0</td>\n",
       "      <td>37.4967</td>\n",
       "      <td>126.826</td>\n",
       "      <td>50.9312</td>\n",
       "      <td>0.4125</td>\n",
       "      <td>5876.901367</td>\n",
       "      <td>31.3</td>\n",
       "      <td>21.6</td>\n",
       "    </tr>\n",
       "    <tr>\n",
       "      <th>9</th>\n",
       "      <td>10.0</td>\n",
       "      <td>30-06-2013</td>\n",
       "      <td>31.6</td>\n",
       "      <td>20.5</td>\n",
       "      <td>56.651203</td>\n",
       "      <td>86.849632</td>\n",
       "      <td>27.576705</td>\n",
       "      <td>22.527018</td>\n",
       "      <td>6.518841</td>\n",
       "      <td>63.006075</td>\n",
       "      <td>...</td>\n",
       "      <td>0.0</td>\n",
       "      <td>0.0</td>\n",
       "      <td>0.0</td>\n",
       "      <td>37.4562</td>\n",
       "      <td>126.955</td>\n",
       "      <td>208.5070</td>\n",
       "      <td>5.1782</td>\n",
       "      <td>5893.608398</td>\n",
       "      <td>30.5</td>\n",
       "      <td>21.0</td>\n",
       "    </tr>\n",
       "  </tbody>\n",
       "</table>\n",
       "<p>10 rows × 25 columns</p>\n",
       "</div>"
      ],
      "text/plain": [
       "   station        Date  Present_Tmax  Present_Tmin  LDAPS_RHmin  LDAPS_RHmax  \\\n",
       "0      1.0  30-06-2013          28.7          21.4    58.255688    91.116364   \n",
       "1      2.0  30-06-2013          31.9          21.6    52.263397    90.604721   \n",
       "2      3.0  30-06-2013          31.6          23.3    48.690479    83.973587   \n",
       "3      4.0  30-06-2013          32.0          23.4    58.239788    96.483688   \n",
       "4      5.0  30-06-2013          31.4          21.9    56.174095    90.155128   \n",
       "5      6.0  30-06-2013          31.9          23.5    52.437126    85.307251   \n",
       "6      7.0  30-06-2013          31.4          24.4    56.287189    81.019760   \n",
       "7      8.0  30-06-2013          32.1          23.6    52.326218    78.004539   \n",
       "8      9.0  30-06-2013          31.4          22.0    55.338791    80.784607   \n",
       "9     10.0  30-06-2013          31.6          20.5    56.651203    86.849632   \n",
       "\n",
       "   LDAPS_Tmax_lapse  LDAPS_Tmin_lapse  LDAPS_WS    LDAPS_LH  ...  LDAPS_PPT2  \\\n",
       "0         28.074101         23.006936  6.818887   69.451805  ...         0.0   \n",
       "1         29.850689         24.035009  5.691890   51.937448  ...         0.0   \n",
       "2         30.091292         24.565633  6.138224   20.573050  ...         0.0   \n",
       "3         29.704629         23.326177  5.650050   65.727144  ...         0.0   \n",
       "4         29.113934         23.486480  5.735004  107.965535  ...         0.0   \n",
       "5         29.219342         23.822613  6.182295   50.231389  ...         0.0   \n",
       "6         28.551859         24.238467  5.587135  125.110007  ...         0.0   \n",
       "7         28.851982         23.819054  6.104417   42.011547  ...         0.0   \n",
       "8         28.426975         23.332373  6.017135   85.110971  ...         0.0   \n",
       "9         27.576705         22.527018  6.518841   63.006075  ...         0.0   \n",
       "\n",
       "   LDAPS_PPT3  LDAPS_PPT4      lat      lon       DEM   Slope  \\\n",
       "0         0.0         0.0  37.6046  126.991  212.3350  2.7850   \n",
       "1         0.0         0.0  37.6046  127.032   44.7624  0.5141   \n",
       "2         0.0         0.0  37.5776  127.058   33.3068  0.2661   \n",
       "3         0.0         0.0  37.6450  127.022   45.7160  2.5348   \n",
       "4         0.0         0.0  37.5507  127.135   35.0380  0.5055   \n",
       "5         0.0         0.0  37.5102  127.042   54.6384  0.1457   \n",
       "6         0.0         0.0  37.5776  126.838   12.3700  0.0985   \n",
       "7         0.0         0.0  37.4697  126.910   52.5180  1.5629   \n",
       "8         0.0         0.0  37.4967  126.826   50.9312  0.4125   \n",
       "9         0.0         0.0  37.4562  126.955  208.5070  5.1782   \n",
       "\n",
       "   Solar radiation  Next_Tmax  Next_Tmin  \n",
       "0      5992.895996       29.1       21.2  \n",
       "1      5869.312500       30.5       22.5  \n",
       "2      5863.555664       31.1       23.9  \n",
       "3      5856.964844       31.7       24.3  \n",
       "4      5859.552246       31.2       22.5  \n",
       "5      5873.780762       31.5       24.0  \n",
       "6      5849.233398       30.9       23.4  \n",
       "7      5863.992188       31.1       22.9  \n",
       "8      5876.901367       31.3       21.6  \n",
       "9      5893.608398       30.5       21.0  \n",
       "\n",
       "[10 rows x 25 columns]"
      ]
     },
     "execution_count": 2,
     "metadata": {},
     "output_type": "execute_result"
    }
   ],
   "source": [
    "df = pd.read_csv(\"temperature.csv\")\n",
    "df.head(10)"
   ]
  },
  {
   "cell_type": "code",
   "execution_count": 3,
   "metadata": {},
   "outputs": [
    {
     "data": {
      "text/plain": [
       "station             float64\n",
       "Date                 object\n",
       "Present_Tmax        float64\n",
       "Present_Tmin        float64\n",
       "LDAPS_RHmin         float64\n",
       "LDAPS_RHmax         float64\n",
       "LDAPS_Tmax_lapse    float64\n",
       "LDAPS_Tmin_lapse    float64\n",
       "LDAPS_WS            float64\n",
       "LDAPS_LH            float64\n",
       "LDAPS_CC1           float64\n",
       "LDAPS_CC2           float64\n",
       "LDAPS_CC3           float64\n",
       "LDAPS_CC4           float64\n",
       "LDAPS_PPT1          float64\n",
       "LDAPS_PPT2          float64\n",
       "LDAPS_PPT3          float64\n",
       "LDAPS_PPT4          float64\n",
       "lat                 float64\n",
       "lon                 float64\n",
       "DEM                 float64\n",
       "Slope               float64\n",
       "Solar radiation     float64\n",
       "Next_Tmax           float64\n",
       "Next_Tmin           float64\n",
       "dtype: object"
      ]
     },
     "execution_count": 3,
     "metadata": {},
     "output_type": "execute_result"
    }
   ],
   "source": [
    "df.dtypes"
   ]
  },
  {
   "cell_type": "markdown",
   "metadata": {},
   "source": [
    "## EDA"
   ]
  },
  {
   "cell_type": "code",
   "execution_count": 4,
   "metadata": {},
   "outputs": [],
   "source": [
    "df = df.drop([\"station\", \"Date\"], axis = 1)"
   ]
  },
  {
   "cell_type": "code",
   "execution_count": 5,
   "metadata": {},
   "outputs": [
    {
     "data": {
      "text/plain": [
       "Present_Tmax        70\n",
       "Present_Tmin        70\n",
       "LDAPS_RHmin         75\n",
       "LDAPS_RHmax         75\n",
       "LDAPS_Tmax_lapse    75\n",
       "LDAPS_Tmin_lapse    75\n",
       "LDAPS_WS            75\n",
       "LDAPS_LH            75\n",
       "LDAPS_CC1           75\n",
       "LDAPS_CC2           75\n",
       "LDAPS_CC3           75\n",
       "LDAPS_CC4           75\n",
       "LDAPS_PPT1          75\n",
       "LDAPS_PPT2          75\n",
       "LDAPS_PPT3          75\n",
       "LDAPS_PPT4          75\n",
       "lat                  0\n",
       "lon                  0\n",
       "DEM                  0\n",
       "Slope                0\n",
       "Solar radiation      0\n",
       "Next_Tmax           27\n",
       "Next_Tmin           27\n",
       "dtype: int64"
      ]
     },
     "execution_count": 5,
     "metadata": {},
     "output_type": "execute_result"
    }
   ],
   "source": [
    "df.isna().sum()"
   ]
  },
  {
   "cell_type": "code",
   "execution_count": 6,
   "metadata": {},
   "outputs": [],
   "source": [
    "df = df.dropna()"
   ]
  },
  {
   "cell_type": "code",
   "execution_count": 7,
   "metadata": {},
   "outputs": [
    {
     "name": "stderr",
     "output_type": "stream",
     "text": [
      "C:\\Users\\Surjeet\\Anaconda3\\lib\\site-packages\\ipykernel_launcher.py:3: RuntimeWarning: More than 20 figures have been opened. Figures created through the pyplot interface (`matplotlib.pyplot.figure`) are retained until explicitly closed and may consume too much memory. (To control this warning, see the rcParam `figure.max_open_warning`).\n",
      "  This is separate from the ipykernel package so we can avoid doing imports until\n"
     ]
    },
    {
     "data": {
      "image/png": "[encoded data removed]",
      "text/plain": [
       "<Figure size 432x288 with 1 Axes>"
      ]
     },
     "metadata": {
      "needs_background": "light"
     },
     "output_type": "display_data"
    },
    {
     "data": {
      "image/png": "[encoded data removed]",
      "text/plain": [
       "<Figure size 432x288 with 1 Axes>"
      ]
     },
     "metadata": {
      "needs_background": "light"
     },
     "output_type": "display_data"
    },
    {
     "data": {
      "image/png": "[encoded data removed]",
      "text/plain": [
       "<Figure size 432x288 with 1 Axes>"
      ]
     },
     "metadata": {
      "needs_background": "light"
     },
     "output_type": "display_data"
    },
    {
     "data": {
      "image/png": "[encoded data removed]",
      "text/plain": [
       "<Figure size 432x288 with 1 Axes>"
      ]
     },
     "metadata": {
      "needs_background": "light"
     },
     "output_type": "display_data"
    },
    {
     "data": {
      "image/png": "[encoded data removed]",
      "text/plain": [
       "<Figure size 432x288 with 1 Axes>"
      ]
     },
     "metadata": {
      "needs_background": "light"
     },
     "output_type": "display_data"
    },
    {
     "data": {
      "image/png": "[encoded data removed]",
      "text/plain": [
       "<Figure size 432x288 with 1 Axes>"
      ]
     },
     "metadata": {
      "needs_background": "light"
     },
     "output_type": "display_data"
    },
    {
     "data": {
      "image/png": "[encoded data removed]",
      "text/plain": [
       "<Figure size 432x288 with 1 Axes>"
      ]
     },
     "metadata": {
      "needs_background": "light"
     },
     "output_type": "display_data"
    },
    {
     "data": {
      "image/png": "[encoded data removed]",
      "text/plain": [
       "<Figure size 432x288 with 1 Axes>"
      ]
     },
     "metadata": {
      "needs_background": "light"
     },
     "output_type": "display_data"
    },
    {
     "data": {
      "image/png": "[encoded data removed]",
      "text/plain": [
       "<Figure size 432x288 with 1 Axes>"
      ]
     },
     "metadata": {
      "needs_background": "light"
     },
     "output_type": "display_data"
    },
    {
     "data": {
      "image/png": "[encoded data removed]",
      "text/plain": [
       "<Figure size 432x288 with 1 Axes>"
      ]
     },
     "metadata": {
      "needs_background": "light"
     },
     "output_type": "display_data"
    },
    {
     "data": {
      "image/png": "[encoded data removed]",
      "text/plain": [
       "<Figure size 432x288 with 1 Axes>"
      ]
     },
     "metadata": {
      "needs_background": "light"
     },
     "output_type": "display_data"
    },
    {
     "data": {
      "image/png": "[encoded data removed]",
      "text/plain": [
       "<Figure size 432x288 with 1 Axes>"
      ]
     },
     "metadata": {
      "needs_background": "light"
     },
     "output_type": "display_data"
    },
    {
     "data": {
      "image/png": "[encoded data removed]",
      "text/plain": [
       "<Figure size 432x288 with 1 Axes>"
      ]
     },
     "metadata": {
      "needs_background": "light"
     },
     "output_type": "display_data"
    },
    {
     "data": {
      "image/png": "[encoded data removed]",
      "text/plain": [
       "<Figure size 432x288 with 1 Axes>"
      ]
     },
     "metadata": {
      "needs_background": "light"
     },
     "output_type": "display_data"
    },
    {
     "data": {
      "image/png": "[encoded data removed]",
      "text/plain": [
       "<Figure size 432x288 with 1 Axes>"
      ]
     },
     "metadata": {
      "needs_background": "light"
     },
     "output_type": "display_data"
    },
    {
     "data": {
      "image/png": "[encoded data removed]",
      "text/plain": [
       "<Figure size 432x288 with 1 Axes>"
      ]
     },
     "metadata": {
      "needs_background": "light"
     },
     "output_type": "display_data"
    },
    {
     "data": {
      "image/png": "[encoded data removed]",
      "text/plain": [
       "<Figure size 432x288 with 1 Axes>"
      ]
     },
     "metadata": {
      "needs_background": "light"
     },
     "output_type": "display_data"
    },
    {
     "data": {
      "image/png": "[encoded data removed]",
      "text/plain": [
       "<Figure size 432x288 with 1 Axes>"
      ]
     },
     "metadata": {
      "needs_background": "light"
     },
     "output_type": "display_data"
    },
    {
     "data": {
      "image/png": "[encoded data removed]",
      "text/plain": [
       "<Figure size 432x288 with 1 Axes>"
      ]
     },
     "metadata": {
      "needs_background": "light"
     },
     "output_type": "display_data"
    },
    {
     "data": {
      "image/png": "[encoded data removed]",
      "text/plain": [
       "<Figure size 432x288 with 1 Axes>"
      ]
     },
     "metadata": {
      "needs_background": "light"
     },
     "output_type": "display_data"
    },
    {
     "data": {
      "image/png": "[encoded data removed]",
      "text/plain": [
       "<Figure size 432x288 with 1 Axes>"
      ]
     },
     "metadata": {
      "needs_background": "light"
     },
     "output_type": "display_data"
    }
   ],
   "source": [
    "feat = list(df.drop([\"Next_Tmax\", \"Next_Tmin\"], axis = 1).columns)\n",
    "for i in feat:\n",
    "    plt.figure()\n",
    "    sns.boxplot(x=df[i])"
   ]
  },
  {
   "cell_type": "code",
   "execution_count": 8,
   "metadata": {},
   "outputs": [
    {
     "data": {
      "text/plain": [
       "(3171, 23)"
      ]
     },
     "execution_count": 8,
     "metadata": {},
     "output_type": "execute_result"
    }
   ],
   "source": [
    "df1 = df # creating a copy of data\n",
    "for i in feat:\n",
    "    Q1 = df[i].quantile(0.25)\n",
    "    Q3 = df[i].quantile(0.75)\n",
    "    IQR = Q3 - Q1    #IQR is interquartile range. \n",
    "    filter = (df[i] >= Q1 - 1.5 * IQR) & (df[i] <= Q3 + 1.5 *IQR)\n",
    "    df1 = df1.loc[filter]\n",
    "df1.shape"
   ]
  },
  {
   "cell_type": "markdown",
   "metadata": {},
   "source": [
    "Since we are loosing huge amount of data on removing the outliers. So will avoid to remove the outliers."
   ]
  },
  {
   "cell_type": "code",
   "execution_count": 9,
   "metadata": {},
   "outputs": [
    {
     "data": {
      "text/html": [
       "<div>\n",
       "<style scoped>\n",
       "    .dataframe tbody tr th:only-of-type {\n",
       "        vertical-align: middle;\n",
       "    }\n",
       "\n",
       "    .dataframe tbody tr th {\n",
       "        vertical-align: top;\n",
       "    }\n",
       "\n",
       "    .dataframe thead th {\n",
       "        text-align: right;\n",
       "    }\n",
       "</style>\n",
       "<table border=\"1\" class=\"dataframe\">\n",
       "  <thead>\n",
       "    <tr style=\"text-align: right;\">\n",
       "      <th></th>\n",
       "      <th>Present_Tmax</th>\n",
       "      <th>Present_Tmin</th>\n",
       "      <th>LDAPS_RHmin</th>\n",
       "      <th>LDAPS_RHmax</th>\n",
       "      <th>LDAPS_Tmax_lapse</th>\n",
       "      <th>LDAPS_Tmin_lapse</th>\n",
       "      <th>LDAPS_WS</th>\n",
       "      <th>LDAPS_LH</th>\n",
       "      <th>LDAPS_CC1</th>\n",
       "      <th>LDAPS_CC2</th>\n",
       "      <th>...</th>\n",
       "      <th>LDAPS_CC4</th>\n",
       "      <th>LDAPS_PPT1</th>\n",
       "      <th>LDAPS_PPT2</th>\n",
       "      <th>LDAPS_PPT3</th>\n",
       "      <th>LDAPS_PPT4</th>\n",
       "      <th>lat</th>\n",
       "      <th>lon</th>\n",
       "      <th>DEM</th>\n",
       "      <th>Slope</th>\n",
       "      <th>Solar radiation</th>\n",
       "    </tr>\n",
       "  </thead>\n",
       "  <tbody>\n",
       "    <tr>\n",
       "      <th>Present_Tmax</th>\n",
       "      <td>1.000000</td>\n",
       "      <td>0.616291</td>\n",
       "      <td>-0.206529</td>\n",
       "      <td>-0.303867</td>\n",
       "      <td>0.574947</td>\n",
       "      <td>0.629656</td>\n",
       "      <td>-0.122206</td>\n",
       "      <td>0.136401</td>\n",
       "      <td>-0.314411</td>\n",
       "      <td>-0.215191</td>\n",
       "      <td>...</td>\n",
       "      <td>-0.141384</td>\n",
       "      <td>-0.109440</td>\n",
       "      <td>-0.099354</td>\n",
       "      <td>-0.120804</td>\n",
       "      <td>-0.100955</td>\n",
       "      <td>-0.052594</td>\n",
       "      <td>0.009215</td>\n",
       "      <td>-0.187753</td>\n",
       "      <td>-0.105532</td>\n",
       "      <td>-0.020531</td>\n",
       "    </tr>\n",
       "    <tr>\n",
       "      <th>Present_Tmin</th>\n",
       "      <td>0.616291</td>\n",
       "      <td>1.000000</td>\n",
       "      <td>0.124516</td>\n",
       "      <td>-0.015260</td>\n",
       "      <td>0.469881</td>\n",
       "      <td>0.772811</td>\n",
       "      <td>-0.034831</td>\n",
       "      <td>-0.009656</td>\n",
       "      <td>0.085882</td>\n",
       "      <td>0.091572</td>\n",
       "      <td>...</td>\n",
       "      <td>-0.044822</td>\n",
       "      <td>0.114859</td>\n",
       "      <td>0.070025</td>\n",
       "      <td>-0.046608</td>\n",
       "      <td>-0.064180</td>\n",
       "      <td>-0.079332</td>\n",
       "      <td>-0.043030</td>\n",
       "      <td>-0.251791</td>\n",
       "      <td>-0.146422</td>\n",
       "      <td>0.061699</td>\n",
       "    </tr>\n",
       "    <tr>\n",
       "      <th>LDAPS_RHmin</th>\n",
       "      <td>-0.206529</td>\n",
       "      <td>0.124516</td>\n",
       "      <td>1.000000</td>\n",
       "      <td>0.579035</td>\n",
       "      <td>-0.565579</td>\n",
       "      <td>0.087319</td>\n",
       "      <td>0.291387</td>\n",
       "      <td>-0.069574</td>\n",
       "      <td>0.613281</td>\n",
       "      <td>0.745043</td>\n",
       "      <td>...</td>\n",
       "      <td>0.514552</td>\n",
       "      <td>0.260943</td>\n",
       "      <td>0.390090</td>\n",
       "      <td>0.239580</td>\n",
       "      <td>0.170301</td>\n",
       "      <td>0.086238</td>\n",
       "      <td>-0.076101</td>\n",
       "      <td>0.101876</td>\n",
       "      <td>0.123620</td>\n",
       "      <td>0.243164</td>\n",
       "    </tr>\n",
       "    <tr>\n",
       "      <th>LDAPS_RHmax</th>\n",
       "      <td>-0.303867</td>\n",
       "      <td>-0.015260</td>\n",
       "      <td>0.579035</td>\n",
       "      <td>1.000000</td>\n",
       "      <td>-0.373342</td>\n",
       "      <td>-0.115966</td>\n",
       "      <td>0.133150</td>\n",
       "      <td>0.240453</td>\n",
       "      <td>0.436418</td>\n",
       "      <td>0.391177</td>\n",
       "      <td>...</td>\n",
       "      <td>0.128209</td>\n",
       "      <td>0.267867</td>\n",
       "      <td>0.227823</td>\n",
       "      <td>0.133673</td>\n",
       "      <td>0.119518</td>\n",
       "      <td>0.195849</td>\n",
       "      <td>0.027026</td>\n",
       "      <td>0.177314</td>\n",
       "      <td>0.220092</td>\n",
       "      <td>0.147950</td>\n",
       "    </tr>\n",
       "    <tr>\n",
       "      <th>LDAPS_Tmax_lapse</th>\n",
       "      <td>0.574947</td>\n",
       "      <td>0.469881</td>\n",
       "      <td>-0.565579</td>\n",
       "      <td>-0.373342</td>\n",
       "      <td>1.000000</td>\n",
       "      <td>0.654508</td>\n",
       "      <td>-0.310716</td>\n",
       "      <td>0.046510</td>\n",
       "      <td>-0.438258</td>\n",
       "      <td>-0.522542</td>\n",
       "      <td>...</td>\n",
       "      <td>-0.427075</td>\n",
       "      <td>-0.109484</td>\n",
       "      <td>-0.240641</td>\n",
       "      <td>-0.185631</td>\n",
       "      <td>-0.162411</td>\n",
       "      <td>-0.042224</td>\n",
       "      <td>0.093209</td>\n",
       "      <td>-0.179431</td>\n",
       "      <td>-0.161927</td>\n",
       "      <td>0.049176</td>\n",
       "    </tr>\n",
       "    <tr>\n",
       "      <th>LDAPS_Tmin_lapse</th>\n",
       "      <td>0.629656</td>\n",
       "      <td>0.772811</td>\n",
       "      <td>0.087319</td>\n",
       "      <td>-0.115966</td>\n",
       "      <td>0.654508</td>\n",
       "      <td>1.000000</td>\n",
       "      <td>-0.130695</td>\n",
       "      <td>-0.136533</td>\n",
       "      <td>0.010209</td>\n",
       "      <td>0.047975</td>\n",
       "      <td>...</td>\n",
       "      <td>-0.077848</td>\n",
       "      <td>0.038812</td>\n",
       "      <td>0.001550</td>\n",
       "      <td>-0.087141</td>\n",
       "      <td>-0.097274</td>\n",
       "      <td>-0.097667</td>\n",
       "      <td>-0.022949</td>\n",
       "      <td>-0.196571</td>\n",
       "      <td>-0.186061</td>\n",
       "      <td>0.159192</td>\n",
       "    </tr>\n",
       "    <tr>\n",
       "      <th>LDAPS_WS</th>\n",
       "      <td>-0.122206</td>\n",
       "      <td>-0.034831</td>\n",
       "      <td>0.291387</td>\n",
       "      <td>0.133150</td>\n",
       "      <td>-0.310716</td>\n",
       "      <td>-0.130695</td>\n",
       "      <td>1.000000</td>\n",
       "      <td>0.008963</td>\n",
       "      <td>0.286673</td>\n",
       "      <td>0.258726</td>\n",
       "      <td>...</td>\n",
       "      <td>0.220710</td>\n",
       "      <td>0.150381</td>\n",
       "      <td>0.190080</td>\n",
       "      <td>0.156982</td>\n",
       "      <td>0.144596</td>\n",
       "      <td>0.035118</td>\n",
       "      <td>-0.060627</td>\n",
       "      <td>0.190517</td>\n",
       "      <td>0.171329</td>\n",
       "      <td>0.122119</td>\n",
       "    </tr>\n",
       "    <tr>\n",
       "      <th>LDAPS_LH</th>\n",
       "      <td>0.136401</td>\n",
       "      <td>-0.009656</td>\n",
       "      <td>-0.069574</td>\n",
       "      <td>0.240453</td>\n",
       "      <td>0.046510</td>\n",
       "      <td>-0.136533</td>\n",
       "      <td>0.008963</td>\n",
       "      <td>1.000000</td>\n",
       "      <td>-0.146236</td>\n",
       "      <td>-0.263002</td>\n",
       "      <td>...</td>\n",
       "      <td>-0.170850</td>\n",
       "      <td>-0.011410</td>\n",
       "      <td>-0.076269</td>\n",
       "      <td>0.017348</td>\n",
       "      <td>0.020351</td>\n",
       "      <td>0.134720</td>\n",
       "      <td>0.026111</td>\n",
       "      <td>0.058139</td>\n",
       "      <td>0.089254</td>\n",
       "      <td>-0.043267</td>\n",
       "    </tr>\n",
       "    <tr>\n",
       "      <th>LDAPS_CC1</th>\n",
       "      <td>-0.314411</td>\n",
       "      <td>0.085882</td>\n",
       "      <td>0.613281</td>\n",
       "      <td>0.436418</td>\n",
       "      <td>-0.438258</td>\n",
       "      <td>0.010209</td>\n",
       "      <td>0.286673</td>\n",
       "      <td>-0.146236</td>\n",
       "      <td>1.000000</td>\n",
       "      <td>0.779723</td>\n",
       "      <td>...</td>\n",
       "      <td>0.363316</td>\n",
       "      <td>0.446171</td>\n",
       "      <td>0.389127</td>\n",
       "      <td>0.168774</td>\n",
       "      <td>0.091913</td>\n",
       "      <td>-0.009336</td>\n",
       "      <td>-0.007023</td>\n",
       "      <td>-0.016359</td>\n",
       "      <td>-0.022853</td>\n",
       "      <td>0.218960</td>\n",
       "    </tr>\n",
       "    <tr>\n",
       "      <th>LDAPS_CC2</th>\n",
       "      <td>-0.215191</td>\n",
       "      <td>0.091572</td>\n",
       "      <td>0.745043</td>\n",
       "      <td>0.391177</td>\n",
       "      <td>-0.522542</td>\n",
       "      <td>0.047975</td>\n",
       "      <td>0.258726</td>\n",
       "      <td>-0.263002</td>\n",
       "      <td>0.779723</td>\n",
       "      <td>1.000000</td>\n",
       "      <td>...</td>\n",
       "      <td>0.527824</td>\n",
       "      <td>0.305219</td>\n",
       "      <td>0.478502</td>\n",
       "      <td>0.239461</td>\n",
       "      <td>0.159489</td>\n",
       "      <td>-0.001699</td>\n",
       "      <td>-0.003806</td>\n",
       "      <td>-0.015200</td>\n",
       "      <td>-0.020104</td>\n",
       "      <td>0.170076</td>\n",
       "    </tr>\n",
       "    <tr>\n",
       "      <th>LDAPS_CC3</th>\n",
       "      <td>-0.144658</td>\n",
       "      <td>-0.002900</td>\n",
       "      <td>0.688440</td>\n",
       "      <td>0.225570</td>\n",
       "      <td>-0.539753</td>\n",
       "      <td>-0.043332</td>\n",
       "      <td>0.239939</td>\n",
       "      <td>-0.244211</td>\n",
       "      <td>0.517194</td>\n",
       "      <td>0.724835</td>\n",
       "      <td>...</td>\n",
       "      <td>0.794696</td>\n",
       "      <td>0.157639</td>\n",
       "      <td>0.337113</td>\n",
       "      <td>0.337879</td>\n",
       "      <td>0.304678</td>\n",
       "      <td>0.004815</td>\n",
       "      <td>0.014918</td>\n",
       "      <td>-0.000123</td>\n",
       "      <td>-0.004753</td>\n",
       "      <td>0.117489</td>\n",
       "    </tr>\n",
       "    <tr>\n",
       "      <th>LDAPS_CC4</th>\n",
       "      <td>-0.141384</td>\n",
       "      <td>-0.044822</td>\n",
       "      <td>0.514552</td>\n",
       "      <td>0.128209</td>\n",
       "      <td>-0.427075</td>\n",
       "      <td>-0.077848</td>\n",
       "      <td>0.220710</td>\n",
       "      <td>-0.170850</td>\n",
       "      <td>0.363316</td>\n",
       "      <td>0.527824</td>\n",
       "      <td>...</td>\n",
       "      <td>1.000000</td>\n",
       "      <td>0.119043</td>\n",
       "      <td>0.287637</td>\n",
       "      <td>0.267145</td>\n",
       "      <td>0.380493</td>\n",
       "      <td>-0.009630</td>\n",
       "      <td>-0.003490</td>\n",
       "      <td>-0.009114</td>\n",
       "      <td>-0.016736</td>\n",
       "      <td>0.115041</td>\n",
       "    </tr>\n",
       "    <tr>\n",
       "      <th>LDAPS_PPT1</th>\n",
       "      <td>-0.109440</td>\n",
       "      <td>0.114859</td>\n",
       "      <td>0.260943</td>\n",
       "      <td>0.267867</td>\n",
       "      <td>-0.109484</td>\n",
       "      <td>0.038812</td>\n",
       "      <td>0.150381</td>\n",
       "      <td>-0.011410</td>\n",
       "      <td>0.446171</td>\n",
       "      <td>0.305219</td>\n",
       "      <td>...</td>\n",
       "      <td>0.119043</td>\n",
       "      <td>1.000000</td>\n",
       "      <td>0.379813</td>\n",
       "      <td>0.033592</td>\n",
       "      <td>0.025769</td>\n",
       "      <td>-0.002604</td>\n",
       "      <td>-0.001413</td>\n",
       "      <td>0.009727</td>\n",
       "      <td>0.014737</td>\n",
       "      <td>0.086426</td>\n",
       "    </tr>\n",
       "    <tr>\n",
       "      <th>LDAPS_PPT2</th>\n",
       "      <td>-0.099354</td>\n",
       "      <td>0.070025</td>\n",
       "      <td>0.390090</td>\n",
       "      <td>0.227823</td>\n",
       "      <td>-0.240641</td>\n",
       "      <td>0.001550</td>\n",
       "      <td>0.190080</td>\n",
       "      <td>-0.076269</td>\n",
       "      <td>0.389127</td>\n",
       "      <td>0.478502</td>\n",
       "      <td>...</td>\n",
       "      <td>0.287637</td>\n",
       "      <td>0.379813</td>\n",
       "      <td>1.000000</td>\n",
       "      <td>0.222146</td>\n",
       "      <td>0.140990</td>\n",
       "      <td>0.018254</td>\n",
       "      <td>0.019730</td>\n",
       "      <td>0.006800</td>\n",
       "      <td>0.008211</td>\n",
       "      <td>0.109012</td>\n",
       "    </tr>\n",
       "    <tr>\n",
       "      <th>LDAPS_PPT3</th>\n",
       "      <td>-0.120804</td>\n",
       "      <td>-0.046608</td>\n",
       "      <td>0.239580</td>\n",
       "      <td>0.133673</td>\n",
       "      <td>-0.185631</td>\n",
       "      <td>-0.087141</td>\n",
       "      <td>0.156982</td>\n",
       "      <td>0.017348</td>\n",
       "      <td>0.168774</td>\n",
       "      <td>0.239461</td>\n",
       "      <td>...</td>\n",
       "      <td>0.267145</td>\n",
       "      <td>0.033592</td>\n",
       "      <td>0.222146</td>\n",
       "      <td>1.000000</td>\n",
       "      <td>0.305371</td>\n",
       "      <td>0.034995</td>\n",
       "      <td>0.021138</td>\n",
       "      <td>0.016126</td>\n",
       "      <td>0.023214</td>\n",
       "      <td>-0.053971</td>\n",
       "    </tr>\n",
       "    <tr>\n",
       "      <th>LDAPS_PPT4</th>\n",
       "      <td>-0.100955</td>\n",
       "      <td>-0.064180</td>\n",
       "      <td>0.170301</td>\n",
       "      <td>0.119518</td>\n",
       "      <td>-0.162411</td>\n",
       "      <td>-0.097274</td>\n",
       "      <td>0.144596</td>\n",
       "      <td>0.020351</td>\n",
       "      <td>0.091913</td>\n",
       "      <td>0.159489</td>\n",
       "      <td>...</td>\n",
       "      <td>0.380493</td>\n",
       "      <td>0.025769</td>\n",
       "      <td>0.140990</td>\n",
       "      <td>0.305371</td>\n",
       "      <td>1.000000</td>\n",
       "      <td>0.011716</td>\n",
       "      <td>0.043899</td>\n",
       "      <td>-0.004671</td>\n",
       "      <td>-0.003392</td>\n",
       "      <td>0.035616</td>\n",
       "    </tr>\n",
       "    <tr>\n",
       "      <th>lat</th>\n",
       "      <td>-0.052594</td>\n",
       "      <td>-0.079332</td>\n",
       "      <td>0.086238</td>\n",
       "      <td>0.195849</td>\n",
       "      <td>-0.042224</td>\n",
       "      <td>-0.097667</td>\n",
       "      <td>0.035118</td>\n",
       "      <td>0.134720</td>\n",
       "      <td>-0.009336</td>\n",
       "      <td>-0.001699</td>\n",
       "      <td>...</td>\n",
       "      <td>-0.009630</td>\n",
       "      <td>-0.002604</td>\n",
       "      <td>0.018254</td>\n",
       "      <td>0.034995</td>\n",
       "      <td>0.011716</td>\n",
       "      <td>1.000000</td>\n",
       "      <td>0.290676</td>\n",
       "      <td>0.030249</td>\n",
       "      <td>0.072314</td>\n",
       "      <td>0.037419</td>\n",
       "    </tr>\n",
       "    <tr>\n",
       "      <th>lon</th>\n",
       "      <td>0.009215</td>\n",
       "      <td>-0.043030</td>\n",
       "      <td>-0.076101</td>\n",
       "      <td>0.027026</td>\n",
       "      <td>0.093209</td>\n",
       "      <td>-0.022949</td>\n",
       "      <td>-0.060627</td>\n",
       "      <td>0.026111</td>\n",
       "      <td>-0.007023</td>\n",
       "      <td>-0.003806</td>\n",
       "      <td>...</td>\n",
       "      <td>-0.003490</td>\n",
       "      <td>-0.001413</td>\n",
       "      <td>0.019730</td>\n",
       "      <td>0.021138</td>\n",
       "      <td>0.043899</td>\n",
       "      <td>0.290676</td>\n",
       "      <td>1.000000</td>\n",
       "      <td>0.007589</td>\n",
       "      <td>0.038488</td>\n",
       "      <td>0.006182</td>\n",
       "    </tr>\n",
       "    <tr>\n",
       "      <th>DEM</th>\n",
       "      <td>-0.187753</td>\n",
       "      <td>-0.251791</td>\n",
       "      <td>0.101876</td>\n",
       "      <td>0.177314</td>\n",
       "      <td>-0.179431</td>\n",
       "      <td>-0.196571</td>\n",
       "      <td>0.190517</td>\n",
       "      <td>0.058139</td>\n",
       "      <td>-0.016359</td>\n",
       "      <td>-0.015200</td>\n",
       "      <td>...</td>\n",
       "      <td>-0.009114</td>\n",
       "      <td>0.009727</td>\n",
       "      <td>0.006800</td>\n",
       "      <td>0.016126</td>\n",
       "      <td>-0.004671</td>\n",
       "      <td>0.030249</td>\n",
       "      <td>0.007589</td>\n",
       "      <td>1.000000</td>\n",
       "      <td>0.784425</td>\n",
       "      <td>0.054017</td>\n",
       "    </tr>\n",
       "    <tr>\n",
       "      <th>Slope</th>\n",
       "      <td>-0.105532</td>\n",
       "      <td>-0.146422</td>\n",
       "      <td>0.123620</td>\n",
       "      <td>0.220092</td>\n",
       "      <td>-0.161927</td>\n",
       "      <td>-0.186061</td>\n",
       "      <td>0.171329</td>\n",
       "      <td>0.089254</td>\n",
       "      <td>-0.022853</td>\n",
       "      <td>-0.020104</td>\n",
       "      <td>...</td>\n",
       "      <td>-0.016736</td>\n",
       "      <td>0.014737</td>\n",
       "      <td>0.008211</td>\n",
       "      <td>0.023214</td>\n",
       "      <td>-0.003392</td>\n",
       "      <td>0.072314</td>\n",
       "      <td>0.038488</td>\n",
       "      <td>0.784425</td>\n",
       "      <td>1.000000</td>\n",
       "      <td>0.026319</td>\n",
       "    </tr>\n",
       "    <tr>\n",
       "      <th>Solar radiation</th>\n",
       "      <td>-0.020531</td>\n",
       "      <td>0.061699</td>\n",
       "      <td>0.243164</td>\n",
       "      <td>0.147950</td>\n",
       "      <td>0.049176</td>\n",
       "      <td>0.159192</td>\n",
       "      <td>0.122119</td>\n",
       "      <td>-0.043267</td>\n",
       "      <td>0.218960</td>\n",
       "      <td>0.170076</td>\n",
       "      <td>...</td>\n",
       "      <td>0.115041</td>\n",
       "      <td>0.086426</td>\n",
       "      <td>0.109012</td>\n",
       "      <td>-0.053971</td>\n",
       "      <td>0.035616</td>\n",
       "      <td>0.037419</td>\n",
       "      <td>0.006182</td>\n",
       "      <td>0.054017</td>\n",
       "      <td>0.026319</td>\n",
       "      <td>1.000000</td>\n",
       "    </tr>\n",
       "  </tbody>\n",
       "</table>\n",
       "<p>21 rows × 21 columns</p>\n",
       "</div>"
      ],
      "text/plain": [
       "                  Present_Tmax  Present_Tmin  LDAPS_RHmin  LDAPS_RHmax  \\\n",
       "Present_Tmax          1.000000      0.616291    -0.206529    -0.303867   \n",
       "Present_Tmin          0.616291      1.000000     0.124516    -0.015260   \n",
       "LDAPS_RHmin          -0.206529      0.124516     1.000000     0.579035   \n",
       "LDAPS_RHmax          -0.303867     -0.015260     0.579035     1.000000   \n",
       "LDAPS_Tmax_lapse      0.574947      0.469881    -0.565579    -0.373342   \n",
       "LDAPS_Tmin_lapse      0.629656      0.772811     0.087319    -0.115966   \n",
       "LDAPS_WS             -0.122206     -0.034831     0.291387     0.133150   \n",
       "LDAPS_LH              0.136401     -0.009656    -0.069574     0.240453   \n",
       "LDAPS_CC1            -0.314411      0.085882     0.613281     0.436418   \n",
       "LDAPS_CC2            -0.215191      0.091572     0.745043     0.391177   \n",
       "LDAPS_CC3            -0.144658     -0.002900     0.688440     0.225570   \n",
       "LDAPS_CC4            -0.141384     -0.044822     0.514552     0.128209   \n",
       "LDAPS_PPT1           -0.109440      0.114859     0.260943     0.267867   \n",
       "LDAPS_PPT2           -0.099354      0.070025     0.390090     0.227823   \n",
       "LDAPS_PPT3           -0.120804     -0.046608     0.239580     0.133673   \n",
       "LDAPS_PPT4           -0.100955     -0.064180     0.170301     0.119518   \n",
       "lat                  -0.052594     -0.079332     0.086238     0.195849   \n",
       "lon                   0.009215     -0.043030    -0.076101     0.027026   \n",
       "DEM                  -0.187753     -0.251791     0.101876     0.177314   \n",
       "Slope                -0.105532     -0.146422     0.123620     0.220092   \n",
       "Solar radiation      -0.020531      0.061699     0.243164     0.147950   \n",
       "\n",
       "                  LDAPS_Tmax_lapse  LDAPS_Tmin_lapse  LDAPS_WS  LDAPS_LH  \\\n",
       "Present_Tmax              0.574947          0.629656 -0.122206  0.136401   \n",
       "Present_Tmin              0.469881          0.772811 -0.034831 -0.009656   \n",
       "LDAPS_RHmin              -0.565579          0.087319  0.291387 -0.069574   \n",
       "LDAPS_RHmax              -0.373342         -0.115966  0.133150  0.240453   \n",
       "LDAPS_Tmax_lapse          1.000000          0.654508 -0.310716  0.046510   \n",
       "LDAPS_Tmin_lapse          0.654508          1.000000 -0.130695 -0.136533   \n",
       "LDAPS_WS                 -0.310716         -0.130695  1.000000  0.008963   \n",
       "LDAPS_LH                  0.046510         -0.136533  0.008963  1.000000   \n",
       "LDAPS_CC1                -0.438258          0.010209  0.286673 -0.146236   \n",
       "LDAPS_CC2                -0.522542          0.047975  0.258726 -0.263002   \n",
       "LDAPS_CC3                -0.539753         -0.043332  0.239939 -0.244211   \n",
       "LDAPS_CC4                -0.427075         -0.077848  0.220710 -0.170850   \n",
       "LDAPS_PPT1               -0.109484          0.038812  0.150381 -0.011410   \n",
       "LDAPS_PPT2               -0.240641          0.001550  0.190080 -0.076269   \n",
       "LDAPS_PPT3               -0.185631         -0.087141  0.156982  0.017348   \n",
       "LDAPS_PPT4               -0.162411         -0.097274  0.144596  0.020351   \n",
       "lat                      -0.042224         -0.097667  0.035118  0.134720   \n",
       "lon                       0.093209         -0.022949 -0.060627  0.026111   \n",
       "DEM                      -0.179431         -0.196571  0.190517  0.058139   \n",
       "Slope                    -0.161927         -0.186061  0.171329  0.089254   \n",
       "Solar radiation           0.049176          0.159192  0.122119 -0.043267   \n",
       "\n",
       "                  LDAPS_CC1  LDAPS_CC2  ...  LDAPS_CC4  LDAPS_PPT1  \\\n",
       "Present_Tmax      -0.314411  -0.215191  ...  -0.141384   -0.109440   \n",
       "Present_Tmin       0.085882   0.091572  ...  -0.044822    0.114859   \n",
       "LDAPS_RHmin        0.613281   0.745043  ...   0.514552    0.260943   \n",
       "LDAPS_RHmax        0.436418   0.391177  ...   0.128209    0.267867   \n",
       "LDAPS_Tmax_lapse  -0.438258  -0.522542  ...  -0.427075   -0.109484   \n",
       "LDAPS_Tmin_lapse   0.010209   0.047975  ...  -0.077848    0.038812   \n",
       "LDAPS_WS           0.286673   0.258726  ...   0.220710    0.150381   \n",
       "LDAPS_LH          -0.146236  -0.263002  ...  -0.170850   -0.011410   \n",
       "LDAPS_CC1          1.000000   0.779723  ...   0.363316    0.446171   \n",
       "LDAPS_CC2          0.779723   1.000000  ...   0.527824    0.305219   \n",
       "LDAPS_CC3          0.517194   0.724835  ...   0.794696    0.157639   \n",
       "LDAPS_CC4          0.363316   0.527824  ...   1.000000    0.119043   \n",
       "LDAPS_PPT1         0.446171   0.305219  ...   0.119043    1.000000   \n",
       "LDAPS_PPT2         0.389127   0.478502  ...   0.287637    0.379813   \n",
       "LDAPS_PPT3         0.168774   0.239461  ...   0.267145    0.033592   \n",
       "LDAPS_PPT4         0.091913   0.159489  ...   0.380493    0.025769   \n",
       "lat               -0.009336  -0.001699  ...  -0.009630   -0.002604   \n",
       "lon               -0.007023  -0.003806  ...  -0.003490   -0.001413   \n",
       "DEM               -0.016359  -0.015200  ...  -0.009114    0.009727   \n",
       "Slope             -0.022853  -0.020104  ...  -0.016736    0.014737   \n",
       "Solar radiation    0.218960   0.170076  ...   0.115041    0.086426   \n",
       "\n",
       "                  LDAPS_PPT2  LDAPS_PPT3  LDAPS_PPT4       lat       lon  \\\n",
       "Present_Tmax       -0.099354   -0.120804   -0.100955 -0.052594  0.009215   \n",
       "Present_Tmin        0.070025   -0.046608   -0.064180 -0.079332 -0.043030   \n",
       "LDAPS_RHmin         0.390090    0.239580    0.170301  0.086238 -0.076101   \n",
       "LDAPS_RHmax         0.227823    0.133673    0.119518  0.195849  0.027026   \n",
       "LDAPS_Tmax_lapse   -0.240641   -0.185631   -0.162411 -0.042224  0.093209   \n",
       "LDAPS_Tmin_lapse    0.001550   -0.087141   -0.097274 -0.097667 -0.022949   \n",
       "LDAPS_WS            0.190080    0.156982    0.144596  0.035118 -0.060627   \n",
       "LDAPS_LH           -0.076269    0.017348    0.020351  0.134720  0.026111   \n",
       "LDAPS_CC1           0.389127    0.168774    0.091913 -0.009336 -0.007023   \n",
       "LDAPS_CC2           0.478502    0.239461    0.159489 -0.001699 -0.003806   \n",
       "LDAPS_CC3           0.337113    0.337879    0.304678  0.004815  0.014918   \n",
       "LDAPS_CC4           0.287637    0.267145    0.380493 -0.009630 -0.003490   \n",
       "LDAPS_PPT1          0.379813    0.033592    0.025769 -0.002604 -0.001413   \n",
       "LDAPS_PPT2          1.000000    0.222146    0.140990  0.018254  0.019730   \n",
       "LDAPS_PPT3          0.222146    1.000000    0.305371  0.034995  0.021138   \n",
       "LDAPS_PPT4          0.140990    0.305371    1.000000  0.011716  0.043899   \n",
       "lat                 0.018254    0.034995    0.011716  1.000000  0.290676   \n",
       "lon                 0.019730    0.021138    0.043899  0.290676  1.000000   \n",
       "DEM                 0.006800    0.016126   -0.004671  0.030249  0.007589   \n",
       "Slope               0.008211    0.023214   -0.003392  0.072314  0.038488   \n",
       "Solar radiation     0.109012   -0.053971    0.035616  0.037419  0.006182   \n",
       "\n",
       "                       DEM     Slope  Solar radiation  \n",
       "Present_Tmax     -0.187753 -0.105532        -0.020531  \n",
       "Present_Tmin     -0.251791 -0.146422         0.061699  \n",
       "LDAPS_RHmin       0.101876  0.123620         0.243164  \n",
       "LDAPS_RHmax       0.177314  0.220092         0.147950  \n",
       "LDAPS_Tmax_lapse -0.179431 -0.161927         0.049176  \n",
       "LDAPS_Tmin_lapse -0.196571 -0.186061         0.159192  \n",
       "LDAPS_WS          0.190517  0.171329         0.122119  \n",
       "LDAPS_LH          0.058139  0.089254        -0.043267  \n",
       "LDAPS_CC1        -0.016359 -0.022853         0.218960  \n",
       "LDAPS_CC2        -0.015200 -0.020104         0.170076  \n",
       "LDAPS_CC3        -0.000123 -0.004753         0.117489  \n",
       "LDAPS_CC4        -0.009114 -0.016736         0.115041  \n",
       "LDAPS_PPT1        0.009727  0.014737         0.086426  \n",
       "LDAPS_PPT2        0.006800  0.008211         0.109012  \n",
       "LDAPS_PPT3        0.016126  0.023214        -0.053971  \n",
       "LDAPS_PPT4       -0.004671 -0.003392         0.035616  \n",
       "lat               0.030249  0.072314         0.037419  \n",
       "lon               0.007589  0.038488         0.006182  \n",
       "DEM               1.000000  0.784425         0.054017  \n",
       "Slope             0.784425  1.000000         0.026319  \n",
       "Solar radiation   0.054017  0.026319         1.000000  \n",
       "\n",
       "[21 rows x 21 columns]"
      ]
     },
     "execution_count": 9,
     "metadata": {},
     "output_type": "execute_result"
    }
   ],
   "source": [
    "df[feat].corr()"
   ]
  },
  {
   "cell_type": "code",
   "execution_count": 10,
   "metadata": {},
   "outputs": [
    {
     "data": {
      "text/plain": [
       "<matplotlib.axes._subplots.AxesSubplot at 0x128f62aa278>"
      ]
     },
     "execution_count": 10,
     "metadata": {},
     "output_type": "execute_result"
    },
    {
     "data": {
      "image/png": "[encoded data removed]",
      "text/plain": [
       "<Figure size 432x288 with 2 Axes>"
      ]
     },
     "metadata": {
      "needs_background": "light"
     },
     "output_type": "display_data"
    }
   ],
   "source": [
    "sns.heatmap(df[feat].corr())"
   ]
  },
  {
   "cell_type": "code",
   "execution_count": 11,
   "metadata": {},
   "outputs": [
    {
     "data": {
      "text/plain": [
       "Index(['Present_Tmax', 'Present_Tmin', 'LDAPS_RHmin', 'LDAPS_RHmax',\n",
       "       'LDAPS_Tmax_lapse', 'LDAPS_Tmin_lapse', 'LDAPS_WS', 'LDAPS_LH',\n",
       "       'LDAPS_CC1', 'LDAPS_CC2', 'LDAPS_CC3', 'LDAPS_CC4', 'LDAPS_PPT1',\n",
       "       'LDAPS_PPT2', 'LDAPS_PPT3', 'LDAPS_PPT4', 'lat', 'lon', 'DEM', 'Slope',\n",
       "       'Solar radiation', 'Next_Tmax', 'Next_Tmin'],\n",
       "      dtype='object')"
      ]
     },
     "execution_count": 11,
     "metadata": {},
     "output_type": "execute_result"
    }
   ],
   "source": [
    "df.columns"
   ]
  },
  {
   "cell_type": "markdown",
   "metadata": {},
   "source": [
    "### Splitting features and target"
   ]
  },
  {
   "cell_type": "code",
   "execution_count": 12,
   "metadata": {},
   "outputs": [],
   "source": [
    "X = df.drop([\"Next_Tmax\", \"Next_Tmin\"], axis = 1)\n",
    "y1 = df[\"Next_Tmin\"]\n",
    "y2 = df[\"Next_Tmax\"]"
   ]
  },
  {
   "cell_type": "markdown",
   "metadata": {},
   "source": [
    "## scaling the data"
   ]
  },
  {
   "cell_type": "code",
   "execution_count": 13,
   "metadata": {},
   "outputs": [],
   "source": [
    "from sklearn.preprocessing import MinMaxScaler\n",
    "for col in feat:\n",
    "    scaler = MinMaxScaler()\n",
    "    X[col] = scaler.fit_transform(X[col].values.reshape(-1, 1))"
   ]
  },
  {
   "cell_type": "markdown",
   "metadata": {},
   "source": [
    "## linear regression"
   ]
  },
  {
   "cell_type": "markdown",
   "metadata": {},
   "source": [
    "#### for minimum temperature"
   ]
  },
  {
   "cell_type": "code",
   "execution_count": 14,
   "metadata": {},
   "outputs": [
    {
     "data": {
      "text/plain": [
       "0.839"
      ]
     },
     "execution_count": 14,
     "metadata": {},
     "output_type": "execute_result"
    }
   ],
   "source": [
    "X_train, X_test, y_train, y_test = train_test_split(X, y1, test_size=0.20)\n",
    "from sklearn.model_selection import cross_val_score\n",
    "from sklearn.linear_model import LinearRegression\n",
    "LR = LinearRegression()\n",
    "LR.fit(X_train, y_train)\n",
    "y_pred_LR = LR.predict(X_test)\n",
    "accuracy = round(LR.score(X_test, y_test),3)\n",
    "accuracy"
   ]
  },
  {
   "cell_type": "code",
   "execution_count": 15,
   "metadata": {},
   "outputs": [
    {
     "data": {
      "text/plain": [
       "array([0.83361902, 0.83815686, 0.82959727, 0.83213293, 0.83745531])"
      ]
     },
     "execution_count": 15,
     "metadata": {},
     "output_type": "execute_result"
    }
   ],
   "source": [
    "scores = cross_val_score(LR, X_train, y_train, scoring = \"r2\", cv = 5)\n",
    "scores"
   ]
  },
  {
   "cell_type": "markdown",
   "metadata": {},
   "source": [
    "## Decision tree"
   ]
  },
  {
   "cell_type": "code",
   "execution_count": 16,
   "metadata": {},
   "outputs": [
    {
     "data": {
      "text/plain": [
       "0.7991610946062133"
      ]
     },
     "execution_count": 16,
     "metadata": {},
     "output_type": "execute_result"
    }
   ],
   "source": [
    "from sklearn.tree import DecisionTreeRegressor\n",
    "DT = DecisionTreeRegressor()\n",
    "DT.fit(X_train, y_train)\n",
    "DT_score = DT.score(X_test, y_test)\n",
    "DT_score"
   ]
  },
  {
   "cell_type": "code",
   "execution_count": 17,
   "metadata": {},
   "outputs": [
    {
     "data": {
      "text/plain": [
       "array([0.77715668, 0.7801272 , 0.77146204, 0.75853348, 0.78665574])"
      ]
     },
     "execution_count": 17,
     "metadata": {},
     "output_type": "execute_result"
    }
   ],
   "source": [
    "scores = cross_val_score(DT, X_train, y_train, scoring = \"r2\", cv = 5)\n",
    "scores"
   ]
  },
  {
   "cell_type": "markdown",
   "metadata": {},
   "source": [
    "## Random forest"
   ]
  },
  {
   "cell_type": "code",
   "execution_count": 18,
   "metadata": {},
   "outputs": [
    {
     "data": {
      "text/plain": [
       "RandomForestRegressor()"
      ]
     },
     "execution_count": 18,
     "metadata": {},
     "output_type": "execute_result"
    }
   ],
   "source": [
    "from sklearn.ensemble import RandomForestRegressor\n",
    "\n",
    "RF1 = RandomForestRegressor(n_estimators = 100)\n",
    "\n",
    "RF1.fit(X_train, y_train)"
   ]
  },
  {
   "cell_type": "code",
   "execution_count": 19,
   "metadata": {},
   "outputs": [
    {
     "data": {
      "text/plain": [
       "0.9028886446338813"
      ]
     },
     "execution_count": 19,
     "metadata": {},
     "output_type": "execute_result"
    }
   ],
   "source": [
    "accuracy = RF1.score(X_test, y_test)\n",
    "accuracy"
   ]
  },
  {
   "cell_type": "code",
   "execution_count": 20,
   "metadata": {},
   "outputs": [
    {
     "data": {
      "text/plain": [
       "array([0.90642654, 0.89960862, 0.89774662, 0.89405855, 0.89625681])"
      ]
     },
     "execution_count": 20,
     "metadata": {},
     "output_type": "execute_result"
    }
   ],
   "source": [
    "scores = cross_val_score(RF1,X_train, y_train, scoring = \"r2\", cv = 5 )\n",
    "scores"
   ]
  },
  {
   "cell_type": "markdown",
   "metadata": {},
   "source": [
    "## Gradient Boost"
   ]
  },
  {
   "cell_type": "code",
   "execution_count": 21,
   "metadata": {},
   "outputs": [
    {
     "data": {
      "text/plain": [
       "0.8822193128377733"
      ]
     },
     "execution_count": 21,
     "metadata": {},
     "output_type": "execute_result"
    }
   ],
   "source": [
    "from sklearn.ensemble import GradientBoostingRegressor\n",
    "\n",
    "GB = GradientBoostingRegressor(n_estimators = 80)\n",
    "\n",
    "GB.fit(X_train, y_train)\n",
    "accuracy = GB.score(X_test, y_test)\n",
    "accuracy"
   ]
  },
  {
   "cell_type": "code",
   "execution_count": 22,
   "metadata": {},
   "outputs": [
    {
     "data": {
      "text/plain": [
       "array([0.88226306, 0.88331618, 0.87733672, 0.87681689, 0.87524618])"
      ]
     },
     "execution_count": 22,
     "metadata": {},
     "output_type": "execute_result"
    }
   ],
   "source": [
    "scores = cross_val_score(GB,X_train, y_train, scoring = \"r2\", cv = 5 )\n",
    "scores"
   ]
  },
  {
   "cell_type": "markdown",
   "metadata": {},
   "source": [
    "## fine tuning the best model"
   ]
  },
  {
   "cell_type": "markdown",
   "metadata": {},
   "source": [
    "Random forest comes out to be the best model with accuracy of 90%. We fine tune this model using grid search."
   ]
  },
  {
   "cell_type": "code",
   "execution_count": 24,
   "metadata": {},
   "outputs": [
    {
     "name": "stdout",
     "output_type": "stream",
     "text": [
      "Fitting 3 folds for each of 180 candidates, totalling 540 fits\n"
     ]
    },
    {
     "data": {
      "text/plain": [
       "GridSearchCV(cv=3, estimator=RandomForestRegressor(), n_jobs=-1,\n",
       "             param_grid={'max_depth': range(5, 10),\n",
       "                         'min_samples_leaf': range(1, 5),\n",
       "                         'min_samples_split': range(2, 5),\n",
       "                         'n_estimators': range(60, 100, 15)},\n",
       "             verbose=1)"
      ]
     },
     "execution_count": 24,
     "metadata": {},
     "output_type": "execute_result"
    }
   ],
   "source": [
    "from sklearn.model_selection import GridSearchCV\n",
    "param_dict = {\n",
    "    \"n_estimators\":range(60,100, 15),\n",
    "    \"max_depth\":range(5,10),\n",
    "    \"min_samples_split\":range(2,5),\n",
    "    \"min_samples_leaf\":range(1,5)\n",
    "}\n",
    "grid_RF = GridSearchCV(RF1,\n",
    "                      param_grid=param_dict,\n",
    "                      cv = 3,\n",
    "                      verbose = 1,\n",
    "                      n_jobs = -1)\n",
    "grid_RF.fit(X_train, y_train)"
   ]
  },
  {
   "cell_type": "markdown",
   "metadata": {},
   "source": [
    "GridSearch is taking too long time(hours)."
   ]
  },
  {
   "cell_type": "code",
   "execution_count": 25,
   "metadata": {},
   "outputs": [
    {
     "data": {
      "text/plain": [
       "{'max_depth': 9,\n",
       " 'min_samples_leaf': 2,\n",
       " 'min_samples_split': 3,\n",
       " 'n_estimators': 75}"
      ]
     },
     "execution_count": 25,
     "metadata": {},
     "output_type": "execute_result"
    }
   ],
   "source": [
    "grid_RF.best_params_"
   ]
  },
  {
   "cell_type": "code",
   "execution_count": 27,
   "metadata": {},
   "outputs": [
    {
     "data": {
      "text/plain": [
       "0.8841709959476542"
      ]
     },
     "execution_count": 27,
     "metadata": {},
     "output_type": "execute_result"
    }
   ],
   "source": [
    "from sklearn.ensemble import RandomForestRegressor\n",
    "RF1 = RandomForestRegressor(n_estimators = 75, min_samples_leaf = 2, min_samples_split=3, max_depth=9)\n",
    "RF1.fit(X_train, y_train)\n",
    "accuracy = RF1.score(X_test, y_test)\n",
    "accuracy"
   ]
  },
  {
   "cell_type": "markdown",
   "metadata": {},
   "source": [
    "#### for maximum temperature"
   ]
  },
  {
   "cell_type": "markdown",
   "metadata": {},
   "source": [
    "## Linear Regression"
   ]
  },
  {
   "cell_type": "code",
   "execution_count": 28,
   "metadata": {},
   "outputs": [
    {
     "data": {
      "text/plain": [
       "0.798"
      ]
     },
     "execution_count": 28,
     "metadata": {},
     "output_type": "execute_result"
    }
   ],
   "source": [
    "X_train, X_test, y_train, y_test = train_test_split(X, y2, test_size=0.20)\n",
    "from sklearn.model_selection import cross_val_score\n",
    "from sklearn.linear_model import LinearRegression\n",
    "LR = LinearRegression()\n",
    "LR.fit(X_train, y_train)\n",
    "y_pred_LR = LR.predict(X_test)\n",
    "accuracy = round(LR.score(X_test, y_test),3)\n",
    "accuracy"
   ]
  },
  {
   "cell_type": "code",
   "execution_count": 29,
   "metadata": {},
   "outputs": [
    {
     "data": {
      "text/plain": [
       "array([0.77245244, 0.78368449, 0.76624977, 0.77459549, 0.76757656])"
      ]
     },
     "execution_count": 29,
     "metadata": {},
     "output_type": "execute_result"
    }
   ],
   "source": [
    "scores = cross_val_score(LR, X_train, y_train, scoring = \"r2\", cv = 5)\n",
    "scores"
   ]
  },
  {
   "cell_type": "markdown",
   "metadata": {},
   "source": [
    "## Decision Tree"
   ]
  },
  {
   "cell_type": "code",
   "execution_count": 30,
   "metadata": {},
   "outputs": [
    {
     "data": {
      "text/plain": [
       "0.7785273669862915"
      ]
     },
     "execution_count": 30,
     "metadata": {},
     "output_type": "execute_result"
    }
   ],
   "source": [
    "from sklearn.tree import DecisionTreeRegressor\n",
    "DT = DecisionTreeRegressor()\n",
    "DT.fit(X_train, y_train)\n",
    "DT_score = DT.score(X_test, y_test)\n",
    "DT_score"
   ]
  },
  {
   "cell_type": "code",
   "execution_count": 31,
   "metadata": {},
   "outputs": [
    {
     "data": {
      "text/plain": [
       "array([0.73560469, 0.75698864, 0.75122612, 0.74195092, 0.73962089])"
      ]
     },
     "execution_count": 31,
     "metadata": {},
     "output_type": "execute_result"
    }
   ],
   "source": [
    "scores = cross_val_score(DT, X_train, y_train, scoring = \"r2\", cv = 5)\n",
    "scores"
   ]
  },
  {
   "cell_type": "markdown",
   "metadata": {},
   "source": [
    "## Random Forest"
   ]
  },
  {
   "cell_type": "code",
   "execution_count": 32,
   "metadata": {},
   "outputs": [
    {
     "data": {
      "text/plain": [
       "0.9076820096179244"
      ]
     },
     "execution_count": 32,
     "metadata": {},
     "output_type": "execute_result"
    }
   ],
   "source": [
    "from sklearn.ensemble import RandomForestRegressor\n",
    "\n",
    "RF2 = RandomForestRegressor(n_estimators = 100)\n",
    "\n",
    "RF2.fit(X_train, y_train)\n",
    "\n",
    "accuracy = RF2.score(X_test, y_test)\n",
    "accuracy"
   ]
  },
  {
   "cell_type": "code",
   "execution_count": 33,
   "metadata": {},
   "outputs": [
    {
     "data": {
      "text/plain": [
       "array([0.89245922, 0.89071576, 0.89350586, 0.88079628, 0.88953518])"
      ]
     },
     "execution_count": 33,
     "metadata": {},
     "output_type": "execute_result"
    }
   ],
   "source": [
    "scores = cross_val_score(RF2,X_train, y_train, scoring = \"r2\", cv = 5 )\n",
    "scores"
   ]
  },
  {
   "cell_type": "markdown",
   "metadata": {},
   "source": [
    "## Gradient Boost"
   ]
  },
  {
   "cell_type": "code",
   "execution_count": 34,
   "metadata": {},
   "outputs": [
    {
     "data": {
      "text/plain": [
       "0.85401297894967"
      ]
     },
     "execution_count": 34,
     "metadata": {},
     "output_type": "execute_result"
    }
   ],
   "source": [
    "from sklearn.ensemble import GradientBoostingRegressor\n",
    "\n",
    "GB = GradientBoostingRegressor(n_estimators = 80)\n",
    "\n",
    "GB.fit(X_train, y_train)\n",
    "accuracy = GB.score(X_test, y_test)\n",
    "accuracy"
   ]
  },
  {
   "cell_type": "code",
   "execution_count": 35,
   "metadata": {},
   "outputs": [
    {
     "data": {
      "text/plain": [
       "array([0.83114748, 0.83088523, 0.83252057, 0.83669853, 0.83289528])"
      ]
     },
     "execution_count": 35,
     "metadata": {},
     "output_type": "execute_result"
    }
   ],
   "source": [
    "scores = cross_val_score(GB,X_train, y_train, scoring = \"r2\", cv = 5 )\n",
    "scores"
   ]
  },
  {
   "cell_type": "markdown",
   "metadata": {},
   "source": [
    "### saving the best model"
   ]
  },
  {
   "cell_type": "markdown",
   "metadata": {},
   "source": [
    "Since the accuracy of the random forest model is best among all other models. We can save these models as pkl file."
   ]
  },
  {
   "cell_type": "code",
   "execution_count": 36,
   "metadata": {},
   "outputs": [],
   "source": [
    "pickle.dump(RF1, open('best_model1.pkl','wb'))\n",
    "pickle.dump(RF2, open('best_model2.pkl','wb'))"
   ]
  },
  {
   "cell_type": "code",
   "execution_count": null,
   "metadata": {},
   "outputs": [],
   "source": []
  }
 ],
 "metadata": {
  "kernelspec": {
   "display_name": "Python 3",
   "language": "python",
   "name": "python3"
  },
  "language_info": {
   "codemirror_mode": {
    "name": "ipython",
    "version": 3
   },
   "file_extension": ".py",
   "mimetype": "text/x-python",
   "name": "python",
   "nbconvert_exporter": "python",
   "pygments_lexer": "ipython3",
   "version": "3.7.3"
  }
 },
 "nbformat": 4,
 "nbformat_minor": 4
}
